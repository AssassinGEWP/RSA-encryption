{
 "cells": [
  {
   "cell_type": "markdown",
   "id": "24bf31b7",
   "metadata": {},
   "source": [
    "#                                               (RSA code and Report)\n",
    "### Name: Omar Elhassan Mohamed Sadek Amin\n",
    "### ID: 20100291\n",
    "**We learned about RSA and its different components in class. In this lab, we will \n",
    "Implement RSA from scratch and use it to exchange secure messages between the \n",
    "client and server."
   ]
  },
  {
   "cell_type": "markdown",
   "id": "d7990c34",
   "metadata": {},
   "source": [
    "## Exercise 1:\n",
    "**in the following code we will make the extended euclid algorithm, to use it for our RSA key Generation, followed by few tests to confirm that it's working as it should."
   ]
  },
  {
   "cell_type": "code",
   "execution_count": 22,
   "id": "feac6090",
   "metadata": {},
   "outputs": [],
   "source": [
    "#Exercise 1:\n",
    "def euclid(a,b):\n",
    "    # Initialization\n",
    "    s0 = 1\n",
    "    t0 = 0\n",
    "    r0 = a\n",
    "    s1 = 0\n",
    "    t1 = 1\n",
    "    r1 = b\n",
    "    \n",
    "    # Loop\n",
    "    while r1 != 0:\n",
    "        r = r0//r1\n",
    "        s2 = s0 - r*s1\n",
    "        t2 = t0 - r*t1\n",
    "        r2 = r0 - r*r1\n",
    "        s0 = s1\n",
    "        t0 = t1\n",
    "        r0 = r1\n",
    "        s1 = s2\n",
    "        t1 = t2\n",
    "        r1 = r2\n",
    "\n",
    "    # Output\n",
    "    return [s0, t0, r0]"
   ]
  },
  {
   "cell_type": "code",
   "execution_count": 23,
   "id": "82410e08",
   "metadata": {},
   "outputs": [
    {
     "data": {
      "text/plain": [
       "[1, -2, 3]"
      ]
     },
     "execution_count": 23,
     "metadata": {},
     "output_type": "execute_result"
    }
   ],
   "source": [
    "euclid(15,6)"
   ]
  },
  {
   "cell_type": "code",
   "execution_count": 24,
   "id": "b7618f84",
   "metadata": {},
   "outputs": [
    {
     "data": {
      "text/plain": [
       "[17, -2, 1]"
      ]
     },
     "execution_count": 24,
     "metadata": {},
     "output_type": "execute_result"
    }
   ],
   "source": [
    "euclid (17, 144)\n"
   ]
  },
  {
   "cell_type": "markdown",
   "id": "051326e1",
   "metadata": {},
   "source": [
    "## Exercise 2:\n",
    "**This is a simple GCD function to look for the GCD of 2 numbers, will also be used in the RSA and followed by few tests."
   ]
  },
  {
   "cell_type": "code",
   "execution_count": 25,
   "id": "5e86f325",
   "metadata": {},
   "outputs": [],
   "source": [
    "#Exercise 2:\n",
    "def gcd (a, b):\n",
    "    while(b):\n",
    "        a, b = b, a % b\n",
    "    return abs(a)"
   ]
  },
  {
   "cell_type": "code",
   "execution_count": 27,
   "id": "ab706460",
   "metadata": {},
   "outputs": [
    {
     "data": {
      "text/plain": [
       "1"
      ]
     },
     "execution_count": 27,
     "metadata": {},
     "output_type": "execute_result"
    }
   ],
   "source": [
    "gcd(112,57)"
   ]
  },
  {
   "cell_type": "markdown",
   "id": "e16a8bdb",
   "metadata": {},
   "source": [
    "## Exercise 3:\n",
    "**For the following function we will need the assist of euclid algorithm to find the modular inverse of the number,if the two numbers are not coprime it will raise an Error and stops the process."
   ]
  },
  {
   "cell_type": "code",
   "execution_count": 137,
   "id": "a9a3e565",
   "metadata": {},
   "outputs": [],
   "source": [
    "#Exercise 3:\n",
    "def egcd(a, b):\n",
    "    if a == 0:\n",
    "        return (b, 0, 1)\n",
    "    else:\n",
    "        g, y, x = egcd(b % a, a)\n",
    "        return (g, x - (b // a) * y, y)\n",
    "\n",
    "def inv(a, b):\n",
    "    g, x, y = egcd(a, b)\n",
    "    if g != 1:\n",
    "        raise Exception('a and n are not coprime') #Stops the code and raises and Error \n",
    "    else:\n",
    "        return x % b"
   ]
  },
  {
   "cell_type": "code",
   "execution_count": 141,
   "id": "ec535c90",
   "metadata": {},
   "outputs": [
    {
     "ename": "Exception",
     "evalue": "a and n are not coprime",
     "output_type": "error",
     "traceback": [
      "\u001b[1;31m---------------------------------------------------------------------------\u001b[0m",
      "\u001b[1;31mException\u001b[0m                                 Traceback (most recent call last)",
      "Input \u001b[1;32mIn [141]\u001b[0m, in \u001b[0;36m<cell line: 1>\u001b[1;34m()\u001b[0m\n\u001b[1;32m----> 1\u001b[0m \u001b[43minv\u001b[49m\u001b[43m(\u001b[49m\u001b[38;5;241;43m11\u001b[39;49m\u001b[43m,\u001b[49m\u001b[38;5;241;43m121\u001b[39;49m\u001b[43m)\u001b[49m\n",
      "Input \u001b[1;32mIn [137]\u001b[0m, in \u001b[0;36minv\u001b[1;34m(a, b)\u001b[0m\n\u001b[0;32m     10\u001b[0m g, x, y \u001b[38;5;241m=\u001b[39m egcd(a, b)\n\u001b[0;32m     11\u001b[0m \u001b[38;5;28;01mif\u001b[39;00m g \u001b[38;5;241m!=\u001b[39m \u001b[38;5;241m1\u001b[39m:\n\u001b[1;32m---> 12\u001b[0m     \u001b[38;5;28;01mraise\u001b[39;00m \u001b[38;5;167;01mException\u001b[39;00m(\u001b[38;5;124m'\u001b[39m\u001b[38;5;124ma and n are not coprime\u001b[39m\u001b[38;5;124m'\u001b[39m) \u001b[38;5;66;03m#Stops the code and raises and Error \u001b[39;00m\n\u001b[0;32m     13\u001b[0m \u001b[38;5;28;01melse\u001b[39;00m:\n\u001b[0;32m     14\u001b[0m     \u001b[38;5;28;01mreturn\u001b[39;00m x \u001b[38;5;241m%\u001b[39m b\n",
      "\u001b[1;31mException\u001b[0m: a and n are not coprime"
     ]
    }
   ],
   "source": [
    "inv(11,121)"
   ]
  },
  {
   "cell_type": "markdown",
   "id": "bf81ca7b",
   "metadata": {},
   "source": [
    "## Exercise 4:\n",
    "**The following function will allow us to check if the number is Prime number or not, will be needed in the RSA key Generation to Generate a Prime key,it will only accept positive Integers."
   ]
  },
  {
   "cell_type": "code",
   "execution_count": 139,
   "id": "297b2694",
   "metadata": {},
   "outputs": [],
   "source": [
    "##Exercise 4:\n",
    "\n",
    "def isPrime(n):\n",
    "    if n<0: raise Exception('Input should be a positive integer')#Stops the code and Raises and Error\n",
    "    if n==2 or n==3: return True\n",
    "    if n%2==0 or n<2: return False\n",
    "    for i in range(3, int(n**0.5)+1, 2):   # only odd numbers\n",
    "        if n%i==0:\n",
    "            return False    \n",
    "\n",
    "    return True"
   ]
  },
  {
   "cell_type": "code",
   "execution_count": 57,
   "id": "4c829c98",
   "metadata": {},
   "outputs": [
    {
     "data": {
      "text/plain": [
       "False"
      ]
     },
     "execution_count": 57,
     "metadata": {},
     "output_type": "execute_result"
    }
   ],
   "source": [
    "isPrime (125)"
   ]
  },
  {
   "cell_type": "code",
   "execution_count": 58,
   "id": "69613b8a",
   "metadata": {},
   "outputs": [
    {
     "data": {
      "text/plain": [
       "False"
      ]
     },
     "execution_count": 58,
     "metadata": {},
     "output_type": "execute_result"
    }
   ],
   "source": [
    " isPrime (169)"
   ]
  },
  {
   "cell_type": "code",
   "execution_count": 60,
   "id": "946d0914",
   "metadata": {},
   "outputs": [
    {
     "data": {
      "text/plain": [
       "True"
      ]
     },
     "execution_count": 60,
     "metadata": {},
     "output_type": "execute_result"
    }
   ],
   "source": [
    " isPrime (5273651)"
   ]
  },
  {
   "cell_type": "code",
   "execution_count": 61,
   "id": "b475f832",
   "metadata": {},
   "outputs": [
    {
     "data": {
      "text/plain": [
       "False"
      ]
     },
     "execution_count": 61,
     "metadata": {},
     "output_type": "execute_result"
    }
   ],
   "source": [
    " isPrime (1)"
   ]
  },
  {
   "cell_type": "code",
   "execution_count": 62,
   "id": "b6033b72",
   "metadata": {},
   "outputs": [
    {
     "data": {
      "text/plain": [
       "False"
      ]
     },
     "execution_count": 62,
     "metadata": {},
     "output_type": "execute_result"
    }
   ],
   "source": [
    " isPrime (0)\n"
   ]
  },
  {
   "cell_type": "code",
   "execution_count": 63,
   "id": "da9ea73c",
   "metadata": {},
   "outputs": [
    {
     "ename": "Exception",
     "evalue": "Input should be a positive integer",
     "output_type": "error",
     "traceback": [
      "\u001b[1;31m---------------------------------------------------------------------------\u001b[0m",
      "\u001b[1;31mException\u001b[0m                                 Traceback (most recent call last)",
      "Input \u001b[1;32mIn [63]\u001b[0m, in \u001b[0;36m<cell line: 1>\u001b[1;34m()\u001b[0m\n\u001b[1;32m----> 1\u001b[0m \u001b[43misPrime\u001b[49m\u001b[43m \u001b[49m\u001b[43m(\u001b[49m\u001b[38;5;241;43m-\u001b[39;49m\u001b[38;5;241;43m16\u001b[39;49m\u001b[43m)\u001b[49m\n",
      "Input \u001b[1;32mIn [53]\u001b[0m, in \u001b[0;36misPrime\u001b[1;34m(n)\u001b[0m\n\u001b[0;32m      3\u001b[0m \u001b[38;5;28;01mdef\u001b[39;00m \u001b[38;5;21misPrime\u001b[39m(n):\n\u001b[1;32m----> 4\u001b[0m     \u001b[38;5;28;01mif\u001b[39;00m n\u001b[38;5;241m<\u001b[39m\u001b[38;5;241m0\u001b[39m: \u001b[38;5;28;01mraise\u001b[39;00m \u001b[38;5;167;01mException\u001b[39;00m(\u001b[38;5;124m'\u001b[39m\u001b[38;5;124mInput should be a positive integer\u001b[39m\u001b[38;5;124m'\u001b[39m)\n\u001b[0;32m      5\u001b[0m     \u001b[38;5;28;01mif\u001b[39;00m n\u001b[38;5;241m==\u001b[39m\u001b[38;5;241m2\u001b[39m \u001b[38;5;129;01mor\u001b[39;00m n\u001b[38;5;241m==\u001b[39m\u001b[38;5;241m3\u001b[39m: \u001b[38;5;28;01mreturn\u001b[39;00m \u001b[38;5;28;01mTrue\u001b[39;00m\n\u001b[0;32m      6\u001b[0m     \u001b[38;5;28;01mif\u001b[39;00m n\u001b[38;5;241m%\u001b[39m\u001b[38;5;241m2\u001b[39m\u001b[38;5;241m==\u001b[39m\u001b[38;5;241m0\u001b[39m \u001b[38;5;129;01mor\u001b[39;00m n\u001b[38;5;241m<\u001b[39m\u001b[38;5;241m2\u001b[39m: \u001b[38;5;28;01mreturn\u001b[39;00m \u001b[38;5;28;01mFalse\u001b[39;00m\n",
      "\u001b[1;31mException\u001b[0m: Input should be a positive integer"
     ]
    }
   ],
   "source": [
    "isPrime (-16)"
   ]
  },
  {
   "cell_type": "markdown",
   "id": "4443c391",
   "metadata": {},
   "source": [
    "## Exercise 5:\n",
    "**This function Generates a random number Given a number of bits, but we have to check if the Number is prime or not, this is where IsPrime function comes in handy."
   ]
  },
  {
   "cell_type": "code",
   "execution_count": 68,
   "id": "eb771879",
   "metadata": {},
   "outputs": [],
   "source": [
    "from random import randint\n",
    "def generatePrime(n):\n",
    "    found_prime = False #Flag for knowing if a Prime number has been found or not\n",
    "    while not found_prime:\n",
    "        p = randint(2**(n-1), 2**n)\n",
    "        if isPrime(p):\n",
    "            return p"
   ]
  },
  {
   "cell_type": "code",
   "execution_count": 70,
   "id": "4e29480f",
   "metadata": {},
   "outputs": [
    {
     "data": {
      "text/plain": [
       "211"
      ]
     },
     "execution_count": 70,
     "metadata": {},
     "output_type": "execute_result"
    }
   ],
   "source": [
    "generatePrime (8)"
   ]
  },
  {
   "cell_type": "code",
   "execution_count": 71,
   "id": "fcbd6f1a",
   "metadata": {},
   "outputs": [
    {
     "data": {
      "text/plain": [
       "42061"
      ]
     },
     "execution_count": 71,
     "metadata": {},
     "output_type": "execute_result"
    }
   ],
   "source": [
    " generatePrime (16)"
   ]
  },
  {
   "cell_type": "code",
   "execution_count": 72,
   "id": "e65e492f",
   "metadata": {},
   "outputs": [
    {
     "data": {
      "text/plain": [
       "4173929563"
      ]
     },
     "execution_count": 72,
     "metadata": {},
     "output_type": "execute_result"
    }
   ],
   "source": [
    " generatePrime (32)"
   ]
  },
  {
   "cell_type": "markdown",
   "id": "bef723a7",
   "metadata": {},
   "source": [
    "## Exercise 6:\n",
    "**This function is used to generate the P,Q (Two Unique Prime numbers) they are the key components to Generate the rest of the necessary components for the RSA cipher."
   ]
  },
  {
   "cell_type": "code",
   "execution_count": 94,
   "id": "4f03731d",
   "metadata": {},
   "outputs": [],
   "source": [
    "def generate_pq (n):\n",
    "    p,q = 0,0\n",
    "    while p == q: # if P equals Q Regenerate them\n",
    "        p=generatePrime(n)\n",
    "        q=generatePrime(n)\n",
    "    return p, q"
   ]
  },
  {
   "cell_type": "code",
   "execution_count": 109,
   "id": "39fa2104",
   "metadata": {},
   "outputs": [
    {
     "data": {
      "text/plain": [
       "(5, 7)"
      ]
     },
     "execution_count": 109,
     "metadata": {},
     "output_type": "execute_result"
    }
   ],
   "source": [
    "generate_pq(3)"
   ]
  },
  {
   "cell_type": "markdown",
   "id": "b2c8961a",
   "metadata": {},
   "source": [
    "## Exercise 7:\n",
    "**This function is used the generate the Public Key, which is used to Encrypt the Plaintext."
   ]
  },
  {
   "cell_type": "code",
   "execution_count": 110,
   "id": "5a9999f1",
   "metadata": {},
   "outputs": [],
   "source": [
    "def generate_e(phi):\n",
    "    e = randint(0,phi-1) #Generate a random Integer\n",
    "    while gcd(e,phi) != 1: # if the GCD doesn't equal 1 Regenerate the (e).\n",
    "        e = randint(0,phi-1)\n",
    "    return e"
   ]
  },
  {
   "cell_type": "code",
   "execution_count": 131,
   "id": "79affa69",
   "metadata": {},
   "outputs": [
    {
     "data": {
      "text/plain": [
       "16"
      ]
     },
     "execution_count": 131,
     "metadata": {},
     "output_type": "execute_result"
    }
   ],
   "source": [
    "generate_e(41)"
   ]
  },
  {
   "cell_type": "markdown",
   "id": "596f37c8",
   "metadata": {},
   "source": [
    "## Exercise 8:\n",
    "**We use all the pervious functions that we made to Generate all of the necessary components for the RSA Specifically The Public and The Private Keys."
   ]
  },
  {
   "cell_type": "code",
   "execution_count": 133,
   "id": "5a1ff6d7",
   "metadata": {},
   "outputs": [],
   "source": [
    "def generate_keypair(p, q):\n",
    "    n= p*q  #Calculate n = pq\n",
    "    phi = (p-1)*(q-1)  #Calculate phi = (p-1) (q-1)\n",
    "    e =generate_e(phi)  # Generate a random e for the calculated phi\n",
    "    d =inv(e,phi)  #Use the inv(a,b) function to find d = e^-1 mod phi(n)\n",
    "#Return public and private keypair\n",
    "#Public key is (e, n) and private key is (d, n)\n",
    "    return ((e, n), (d, n)) "
   ]
  },
  {
   "cell_type": "markdown",
   "id": "9b25f330",
   "metadata": {},
   "source": [
    "## Exercise 9:\n",
    "**in This function we use the Public Key to Encrypt the plaintext Letter by Letter."
   ]
  },
  {
   "cell_type": "code",
   "execution_count": 163,
   "id": "37386832",
   "metadata": {},
   "outputs": [],
   "source": [
    "def encrypt (pubk, plaintext):\n",
    "#'''Encrypts the letters in plaintext'''\n",
    "    e,n=pubk #Unpack the key into its components, e and n\n",
    "    cipher = [] # create an empty array.\n",
    "    for letter in plaintext: #get every letter in the plaintext\n",
    "        m = ord(letter) # turn it into an integar\n",
    "        c = pow(m, e, n) # Encrypt it\n",
    "        cipher.append(c) # add it the the Array.\n",
    "        #Repeat until all letters are Encrypted.\n",
    "\n",
    "    return cipher"
   ]
  },
  {
   "cell_type": "markdown",
   "id": "8cf42a48",
   "metadata": {},
   "source": [
    "## Exercise 10:\n",
    "**in This function we use the Private key to Decrypt the Encrypted text , again Letter by Letter."
   ]
  },
  {
   "cell_type": "code",
   "execution_count": 162,
   "id": "c693876a",
   "metadata": {},
   "outputs": [],
   "source": [
    "def decrypt (privk, ciphertext):\n",
    "    d,n = privk #Unpack the key into its components\n",
    "    plaintext = [] # Create an Empty Array.\n",
    "    for c in ciphertext: # Get Every Ciphered letter\n",
    "        m = pow(c, d, n)  # Decrypt it\n",
    "        plaintext.append(chr(m)) # turn it back into a character\n",
    "        #Repeat until there are no Ciphered Letters.\n",
    "    return \"\".join(plaintext) # convert the Array of Characters into a String and return it\n"
   ]
  },
  {
   "cell_type": "markdown",
   "id": "5c4d3d78",
   "metadata": {},
   "source": [
    "# The Main Cell \n",
    "**This is the Cell that is used to Try out the RSA Functions that we just created and test them on an inserted Plain Text."
   ]
  },
  {
   "cell_type": "code",
   "execution_count": 165,
   "id": "7180134f",
   "metadata": {},
   "outputs": [
    {
     "name": "stdout",
     "output_type": "stream",
     "text": [
      "RSA Encrypter/ Decrypter\n",
      "Generating your public/private keypairs now . . .\n",
      "Your public key is  (20383, 28841)  and your private key is  (2047, 28841)\n",
      "Enter a message to encrypt with your public key: blablabla hahaha\n",
      "Your encrypted message is: \n",
      "64656622157926465662215792646566221579212565463815792463815792463815792\n",
      "Decrypting message with private key  (2047, 28841)  . . .\n",
      "Your message is:\n",
      "blablabla hahaha\n"
     ]
    }
   ],
   "source": [
    "print (\"RSA Encrypter/ Decrypter\")\n",
    "bit_size = 8\n",
    "p, q = generate_pq(bit_size)\n",
    "print (\"Generating your public/private keypairs now . . .\")\n",
    "public, private = generate_keypair(p, q)\n",
    "print (\"Your public key is \", public,\" and your private key is \", private)\n",
    "message = input (\"Enter a message to encrypt with your public key: \")\n",
    "encrypted_msg = encrypt (public, message)\n",
    "print (\"Your encrypted message is: \")\n",
    "print (''.join(map(lambda x: str(x), encrypted_msg)))\n",
    "print (\"Decrypting message with private key \", private ,\" . . .\")\n",
    "print (\"Your message is:\")\n",
    "print (decrypt(private, encrypted_msg))"
   ]
  },
  {
   "cell_type": "markdown",
   "id": "2987741c",
   "metadata": {},
   "source": [
    "# Conclusion\n",
    "<b>We have learned:\n",
    "    <ol>\n",
    "<li>What components are needed for the RSA Cipher</li>\n",
    "<li>How to Create them</li>\n",
    "<li>How are they made</li>\n",
    "<li>While it was an easy process it can take longer using other programming languages like Java which doesn't support dynamic Arrays like how Python does</li>\n",
    "<li>Using Python cells Make it Easier to Test and Fix any part if your code by seperating it from the main code.</li>\n",
    "    </ol>\n",
    "   </b>"
   ]
  }
 ],
 "metadata": {
  "kernelspec": {
   "display_name": "Python 3 (ipykernel)",
   "language": "python",
   "name": "python3"
  },
  "language_info": {
   "codemirror_mode": {
    "name": "ipython",
    "version": 3
   },
   "file_extension": ".py",
   "mimetype": "text/x-python",
   "name": "python",
   "nbconvert_exporter": "python",
   "pygments_lexer": "ipython3",
   "version": "3.9.12"
  }
 },
 "nbformat": 4,
 "nbformat_minor": 5
}
